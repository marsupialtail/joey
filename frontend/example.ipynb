{
 "cells": [
  {
   "cell_type": "code",
   "execution_count": 26,
   "id": "8313908e-d281-442e-a1b0-e82b08dd1618",
   "metadata": {},
   "outputs": [],
   "source": [
    "from pyjoey.gui import render\n",
    "import polars\n",
    "from IPython.display import display, HTML\n",
    "import ipywidgets as widgets\n",
    "import os"
   ]
  },
  {
   "cell_type": "code",
   "execution_count": 27,
   "id": "093b1659-d7d3-4b40-b470-f41bf0d6a543",
   "metadata": {},
   "outputs": [],
   "source": [
    "horizontal_spacer = widgets.Box(layout=widgets.Layout(width='100%'))\n",
    "vertical_spacer = widgets.Box(layout=widgets.Layout(height='50px'))\n",
    "\n",
    "style = \"\"\"\n",
    "<style>\n",
    "    .widget-label {\n",
    "        min-width: 20ex !important;\n",
    "    }\n",
    "</style>\n",
    "\"\"\""
   ]
  },
  {
   "cell_type": "code",
   "execution_count": 28,
   "id": "228cf368-e71a-4db3-83be-1eff67b9b978",
   "metadata": {},
   "outputs": [
    {
     "data": {
      "text/html": [
       "\n",
       "<style>\n",
       "    .widget-label {\n",
       "        min-width: 20ex !important;\n",
       "    }\n",
       "</style>\n"
      ],
      "text/plain": [
       "<IPython.core.display.HTML object>"
      ]
     },
     "metadata": {},
     "output_type": "display_data"
    },
    {
     "data": {
      "application/vnd.jupyter.widget-view+json": {
       "model_id": "2a2c7307e60542b4b4b22f1a52753842",
       "version_major": 2,
       "version_minor": 0
      },
      "text/plain": [
       "HTML(value=\"<h2 style='background-color:blue; color:white; text-align:center; padding:10px;'>Load the Data</h2…"
      ]
     },
     "metadata": {},
     "output_type": "display_data"
    },
    {
     "data": {
      "application/vnd.jupyter.widget-view+json": {
       "model_id": "4d5930e165324283a157a0fb377d14b5",
       "version_major": 2,
       "version_minor": 0
      },
      "text/plain": [
       "Box(layout=Layout(height='50px'))"
      ]
     },
     "metadata": {},
     "output_type": "display_data"
    },
    {
     "data": {
      "application/vnd.jupyter.widget-view+json": {
       "model_id": "dfebf90c27044b918b5069a53dbbc8af",
       "version_major": 2,
       "version_minor": 0
      },
      "text/plain": [
       "HBox(children=(Dropdown(_dom_classes=('custom-textbox',), description='Parquet Files:', options=('2021.parquet…"
      ]
     },
     "metadata": {},
     "output_type": "display_data"
    },
    {
     "data": {
      "application/vnd.jupyter.widget-view+json": {
       "model_id": "fc28a3ef4a284b6e92021efd3b94de75",
       "version_major": 2,
       "version_minor": 0
      },
      "text/plain": [
       "Output()"
      ]
     },
     "metadata": {},
     "output_type": "display_data"
    }
   ],
   "source": [
    "title = widgets.HTML(\n",
    "    value=\"<h2 style='background-color:blue; color:white; text-align:center; padding:10px;'>Load the Data</h2>\",\n",
    ")\n",
    "\n",
    "dropdown = widgets.Dropdown(\n",
    "    options=[f for f in os.listdir(\"data/\") if f.endswith('.parquet')],\n",
    "    description='Parquet Files:',\n",
    "    disabled=False,\n",
    ")\n",
    "\n",
    "display(HTML(style))\n",
    "dropdown.add_class('custom-textbox')\n",
    "\n",
    "button = widgets.Button(\n",
    "    description='Fetch Data',\n",
    "    button_style='success',  # 'success', 'info', 'warning', 'danger' or ''\n",
    "    icon='download'  # FontAwesome icon name (without 'fa-')\n",
    ")\n",
    "\n",
    "out = widgets.Output()\n",
    "\n",
    "def fetch(b):\n",
    "    table = polars.read_parquet(dropdown.value)\n",
    "    with out:\n",
    "        print(table)\n",
    "        render(table)\n",
    "\n",
    "button.on_click(fetch)\n",
    "\n",
    "display(title, vertical_spacer, widgets.HBox([dropdown, horizontal_spacer, button]), out)"
   ]
  }
 ],
 "metadata": {
  "kernelspec": {
   "display_name": "Python 3 (ipykernel)",
   "language": "python",
   "name": "python3"
  },
  "language_info": {
   "codemirror_mode": {
    "name": "ipython",
    "version": 3
   },
   "file_extension": ".py",
   "mimetype": "text/x-python",
   "name": "python",
   "nbconvert_exporter": "python",
   "pygments_lexer": "ipython3",
   "version": "3.8.18"
  }
 },
 "nbformat": 4,
 "nbformat_minor": 5
}
